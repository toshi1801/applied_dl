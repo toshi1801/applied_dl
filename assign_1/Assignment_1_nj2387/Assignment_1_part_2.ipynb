{
  "nbformat": 4,
  "nbformat_minor": 0,
  "metadata": {
    "colab": {
      "name": "Assignment_1_part_2.ipynb",
      "version": "0.3.2",
      "provenance": [],
      "collapsed_sections": []
    },
    "kernelspec": {
      "name": "python3",
      "display_name": "Python 3"
    },
    "accelerator": "GPU"
  },
  "cells": [
    {
      "metadata": {
        "id": "twWiJNWW4wNs",
        "colab_type": "text"
      },
      "cell_type": "markdown",
      "source": [
        "**Name: Naman Jain**\n",
        "\n",
        "**UNI: nj2387**"
      ]
    },
    {
      "metadata": {
        "id": "xvXhwRq1raOb",
        "colab_type": "code",
        "outputId": "6f7584b0-8343-4087-f526-1aab1395d74b",
        "colab": {
          "base_uri": "https://localhost:8080/",
          "height": 340
        }
      },
      "cell_type": "code",
      "source": [
        "!pip install tf-nightly-2.0-preview"
      ],
      "execution_count": 1,
      "outputs": [
        {
          "output_type": "stream",
          "text": [
            "Requirement already satisfied: tf-nightly-2.0-preview in /usr/local/lib/python3.6/dist-packages (2.0.0.dev20190214)\n",
            "Requirement already satisfied: tensorflow-estimator-2.0-preview in /usr/local/lib/python3.6/dist-packages (from tf-nightly-2.0-preview) (1.14.0.dev2019021400)\n",
            "Requirement already satisfied: grpcio>=1.8.6 in /usr/local/lib/python3.6/dist-packages (from tf-nightly-2.0-preview) (1.15.0)\n",
            "Requirement already satisfied: gast>=0.2.0 in /usr/local/lib/python3.6/dist-packages (from tf-nightly-2.0-preview) (0.2.2)\n",
            "Requirement already satisfied: absl-py>=0.1.6 in /usr/local/lib/python3.6/dist-packages (from tf-nightly-2.0-preview) (0.7.0)\n",
            "Requirement already satisfied: numpy<2.0,>=1.14.5 in /usr/local/lib/python3.6/dist-packages (from tf-nightly-2.0-preview) (1.14.6)\n",
            "Requirement already satisfied: tb-nightly<1.14.0a0,>=1.13.0a0 in /usr/local/lib/python3.6/dist-packages (from tf-nightly-2.0-preview) (1.13.0a20190214)\n",
            "Requirement already satisfied: keras-preprocessing>=1.0.5 in /usr/local/lib/python3.6/dist-packages (from tf-nightly-2.0-preview) (1.0.9)\n",
            "Requirement already satisfied: keras-applications>=1.0.6 in /usr/local/lib/python3.6/dist-packages (from tf-nightly-2.0-preview) (1.0.7)\n",
            "Requirement already satisfied: protobuf>=3.6.1 in /usr/local/lib/python3.6/dist-packages (from tf-nightly-2.0-preview) (3.6.1)\n",
            "Requirement already satisfied: astor>=0.6.0 in /usr/local/lib/python3.6/dist-packages (from tf-nightly-2.0-preview) (0.7.1)\n",
            "Requirement already satisfied: google-pasta>=0.1.1 in /usr/local/lib/python3.6/dist-packages (from tf-nightly-2.0-preview) (0.1.3)\n",
            "Requirement already satisfied: termcolor>=1.1.0 in /usr/local/lib/python3.6/dist-packages (from tf-nightly-2.0-preview) (1.1.0)\n",
            "Requirement already satisfied: wheel>=0.26 in /usr/local/lib/python3.6/dist-packages (from tf-nightly-2.0-preview) (0.32.3)\n",
            "Requirement already satisfied: six>=1.10.0 in /usr/local/lib/python3.6/dist-packages (from tf-nightly-2.0-preview) (1.11.0)\n",
            "Requirement already satisfied: markdown>=2.6.8 in /usr/local/lib/python3.6/dist-packages (from tb-nightly<1.14.0a0,>=1.13.0a0->tf-nightly-2.0-preview) (3.0.1)\n",
            "Requirement already satisfied: werkzeug>=0.11.15 in /usr/local/lib/python3.6/dist-packages (from tb-nightly<1.14.0a0,>=1.13.0a0->tf-nightly-2.0-preview) (0.14.1)\n",
            "Requirement already satisfied: h5py in /usr/local/lib/python3.6/dist-packages (from keras-applications>=1.0.6->tf-nightly-2.0-preview) (2.8.0)\n",
            "Requirement already satisfied: setuptools in /usr/local/lib/python3.6/dist-packages (from protobuf>=3.6.1->tf-nightly-2.0-preview) (40.8.0)\n"
          ],
          "name": "stdout"
        }
      ]
    },
    {
      "metadata": {
        "id": "Yjznf0HzsX87",
        "colab_type": "code",
        "colab": {
          "base_uri": "https://localhost:8080/",
          "height": 51
        },
        "outputId": "57f0bdfb-dd4b-466a-ca09-d015ab988139"
      },
      "cell_type": "code",
      "source": [
        "import tensorflow as tf"
      ],
      "execution_count": 2,
      "outputs": [
        {
          "output_type": "stream",
          "text": [
            "Limited tf.compat.v2.summary API due to missing TensorBoard installation\n",
            "Limited tf.summary API due to missing TensorBoard installation\n"
          ],
          "name": "stdout"
        }
      ]
    },
    {
      "metadata": {
        "id": "WtYd-ljwtkm5",
        "colab_type": "code",
        "outputId": "ed15fcbe-cd38-43ca-c740-65037c4633b1",
        "colab": {
          "base_uri": "https://localhost:8080/",
          "height": 34
        }
      },
      "cell_type": "code",
      "source": [
        "print(\"You have version\", tf.__version__)\n",
        "assert tf.__version__ >= \"2.0\" # TensorFlow ≥ 2.0 required"
      ],
      "execution_count": 3,
      "outputs": [
        {
          "output_type": "stream",
          "text": [
            "You have version 2.0.0-dev20190214\n"
          ],
          "name": "stdout"
        }
      ]
    },
    {
      "metadata": {
        "id": "F9NLbfr4tlSV",
        "colab_type": "code",
        "colab": {}
      },
      "cell_type": "code",
      "source": [
        "import numpy as np\n",
        "\n",
        "import matplotlib.pyplot as plt\n",
        "\n",
        "from tensorflow.keras import Model\n",
        "from tensorflow.keras.layers import Dense, Flatten\n",
        "from tensorflow.keras.datasets import fashion_mnist"
      ],
      "execution_count": 0,
      "outputs": []
    },
    {
      "metadata": {
        "id": "1XokkNXevrYY",
        "colab_type": "code",
        "colab": {}
      },
      "cell_type": "code",
      "source": [
        "(train_images, train_labels), (test_images, test_labels) = fashion_mnist.load_data()\n",
        "train_images, test_images = train_images / 255.0, test_images / 255.0"
      ],
      "execution_count": 0,
      "outputs": []
    },
    {
      "metadata": {
        "id": "GvC2dIK-0wvZ",
        "colab_type": "code",
        "colab": {}
      },
      "cell_type": "code",
      "source": [
        "BATCH_SIZE = 128\n",
        "BUFFER_SIZE = len(train_images)\n",
        "\n",
        "fashion_mnist_train = tf.data.Dataset.from_tensor_slices((train_images, train_labels)).shuffle(BUFFER_SIZE).batch(BATCH_SIZE)\n",
        "fashion_mnist_test = tf.data.Dataset.from_tensor_slices((test_images, test_labels)).batch(BATCH_SIZE)"
      ],
      "execution_count": 0,
      "outputs": []
    },
    {
      "metadata": {
        "id": "aDFNSA8ZGp13",
        "colab_type": "text"
      },
      "cell_type": "markdown",
      "source": [
        "# Deep Neural Model Definition "
      ]
    },
    {
      "metadata": {
        "id": "-xjglEsk1LqC",
        "colab_type": "code",
        "colab": {}
      },
      "cell_type": "code",
      "source": [
        "class DeepModel(Model):\n",
        "  def __init__(self):\n",
        "    super().__init__()\n",
        "    self.flatten = Flatten()\n",
        "    self.d1 = Dense(256, activation='relu')\n",
        "    self.d2 = Dense(256, activation='relu')\n",
        "    self.d3 = Dense(128, activation='relu')\n",
        "    self.d4 = Dense(10, activation='softmax')\n",
        "\n",
        "  def call(self, x):\n",
        "    x = self.flatten(x)\n",
        "    x = self.d1(x)\n",
        "    x = self.d2(x)\n",
        "    x = self.d3(x)\n",
        "    return self.d4(x)"
      ],
      "execution_count": 0,
      "outputs": []
    },
    {
      "metadata": {
        "id": "ySSBwuvZGw4V",
        "colab_type": "text"
      },
      "cell_type": "markdown",
      "source": [
        "# Linear Model Definition"
      ]
    },
    {
      "metadata": {
        "id": "zz00sleN99YI",
        "colab_type": "code",
        "colab": {}
      },
      "cell_type": "code",
      "source": [
        "class LinearModel(Model):\n",
        "  def __init__(self):\n",
        "    super().__init__()\n",
        "    self.flatten = Flatten()\n",
        "    self.d1 = Dense(10, activation='softmax')\n",
        "\n",
        "  def call(self, x):\n",
        "    x = self.flatten(x)\n",
        "    return self.d1(x)"
      ],
      "execution_count": 0,
      "outputs": []
    },
    {
      "metadata": {
        "id": "EwZ74cGv1imN",
        "colab_type": "code",
        "colab": {}
      },
      "cell_type": "code",
      "source": [
        "loss_function = tf.keras.losses.SparseCategoricalCrossentropy(from_logits=False)\n",
        "optimizer = tf.keras.optimizers.Adam()"
      ],
      "execution_count": 0,
      "outputs": []
    },
    {
      "metadata": {
        "id": "6AbkzP5F1mhJ",
        "colab_type": "code",
        "colab": {}
      },
      "cell_type": "code",
      "source": [
        "train_loss_metric = tf.keras.metrics.Mean(name='train_loss')\n",
        "test_loss_metric = tf.keras.metrics.Mean(name='test_loss')\n",
        "\n",
        "train_accuracy_metric = tf.keras.metrics.SparseCategoricalAccuracy(name='train_accuracy')\n",
        "test_accuracy_metric = tf.keras.metrics.SparseCategoricalAccuracy(name='test_accuracy')"
      ],
      "execution_count": 0,
      "outputs": []
    },
    {
      "metadata": {
        "id": "Mky316zb1uHa",
        "colab_type": "code",
        "colab": {}
      },
      "cell_type": "code",
      "source": [
        "def train_step(model, images, labels):\n",
        "  with tf.GradientTape() as tape:    \n",
        "    # Forward pass\n",
        "    predictions = model(images)\n",
        "    train_loss = loss_function(y_true=labels, y_pred=predictions)\n",
        "  \n",
        "  # Backward pass\n",
        "  gradients = tape.gradient(train_loss, model.trainable_variables)\n",
        "  optimizer.apply_gradients(zip(gradients, model.trainable_variables))\n",
        "\n",
        "  # Record results\n",
        "  train_loss_metric(train_loss)\n",
        "  train_accuracy_metric(labels, predictions)"
      ],
      "execution_count": 0,
      "outputs": []
    },
    {
      "metadata": {
        "id": "qwGjBaKu10Kb",
        "colab_type": "code",
        "colab": {}
      },
      "cell_type": "code",
      "source": [
        "def test_step(model, images, labels):\n",
        "  predictions = model(images)\n",
        "  test_loss = loss_function(y_true=labels, y_pred=predictions)\n",
        "  \n",
        "  # Record results\n",
        "  test_loss_metric(test_loss)\n",
        "  test_accuracy_metric(labels, predictions)"
      ],
      "execution_count": 0,
      "outputs": []
    },
    {
      "metadata": {
        "id": "AyeQW0Wo14Rt",
        "colab_type": "code",
        "colab": {}
      },
      "cell_type": "code",
      "source": [
        "def train_model(model, EPOCHS=10):\n",
        "\n",
        "  train_acc = []\n",
        "  test_acc = []\n",
        "  train_loss = []\n",
        "  test_loss = []\n",
        "\n",
        "  for epoch in range(EPOCHS):\n",
        "    for images, labels in fashion_mnist_train:\n",
        "      train_step(model, images, labels)\n",
        "\n",
        "    for test_images, test_labels in fashion_mnist_test:\n",
        "      test_step(model, test_images, test_labels)\n",
        "\n",
        "    template = 'Epoch {}, Loss: {:.4f}, Accuracy: {:.2f}, Test loss: {:.4f}, Test accuracy: {:.2f}'\n",
        "    train_acc.append(train_accuracy_metric.result() * 100)\n",
        "    test_acc.append(test_accuracy_metric.result() * 100)\n",
        "    train_loss.append(train_loss_metric.result())\n",
        "    test_loss.append(test_loss_metric.result())\n",
        "    print (template.format(epoch +1, \n",
        "                           train_loss_metric.result(), \n",
        "                           train_accuracy_metric.result() * 100, \n",
        "                           test_loss_metric.result(), \n",
        "                           test_accuracy_metric.result() * 100))\n",
        "  return train_acc, train_loss, test_acc, test_loss"
      ],
      "execution_count": 0,
      "outputs": []
    },
    {
      "metadata": {
        "id": "-Rkiwuhy2C7O",
        "colab_type": "code",
        "colab": {}
      },
      "cell_type": "code",
      "source": [
        "def plot_train_val_acc(acc, val_acc, loss, val_loss):\n",
        "  # Get the number of epochs\n",
        "  epochs = range(len(acc))\n",
        "\n",
        "  plt.title('Training and validation accuracy')\n",
        "  plt.plot(epochs, acc, color='blue', label='Train')\n",
        "  plt.plot(epochs, val_acc, color='orange', label='Val')\n",
        "  plt.xlabel('Epoch')\n",
        "  plt.ylabel('Accuracy')\n",
        "  plt.legend()\n",
        "\n",
        "  _ = plt.figure()\n",
        "  plt.title('Training and validation loss')\n",
        "  plt.plot(epochs, loss, color='blue', label='Train')\n",
        "  plt.plot(epochs, val_loss, color='orange', label='Val')\n",
        "  plt.xlabel('Epoch')\n",
        "  plt.ylabel('Loss')\n",
        "  plt.legend()"
      ],
      "execution_count": 0,
      "outputs": []
    },
    {
      "metadata": {
        "id": "US93FuNL2_Nl",
        "colab_type": "code",
        "outputId": "c541dcfd-6b59-460c-f760-6c321125e11b",
        "colab": {
          "base_uri": "https://localhost:8080/",
          "height": 922
        }
      },
      "cell_type": "code",
      "source": [
        "print('Linear Model Execution....')\n",
        "model_linear = LinearModel()\n",
        "acc, loss, val_acc, val_loss = train_model(model_linear)\n",
        "plot_train_val_acc(acc, val_acc, loss, val_loss)"
      ],
      "execution_count": 15,
      "outputs": [
        {
          "output_type": "stream",
          "text": [
            "Linear Model Execution....\n",
            "Epoch 1, Loss: 0.7539, Accuracy: 75.21, Test loss: 0.5693, Test accuracy: 80.85\n",
            "Epoch 2, Loss: 0.6351, Accuracy: 79.01, Test loss: 0.5402, Test accuracy: 81.67\n",
            "Epoch 3, Loss: 0.5815, Accuracy: 80.68, Test loss: 0.5224, Test accuracy: 82.17\n",
            "Epoch 4, Loss: 0.5492, Accuracy: 81.68, Test loss: 0.5100, Test accuracy: 82.49\n",
            "Epoch 5, Loss: 0.5270, Accuracy: 82.36, Test loss: 0.5008, Test accuracy: 82.75\n",
            "Epoch 6, Loss: 0.5105, Accuracy: 82.87, Test loss: 0.4936, Test accuracy: 82.96\n",
            "Epoch 7, Loss: 0.4976, Accuracy: 83.27, Test loss: 0.4878, Test accuracy: 83.13\n",
            "Epoch 8, Loss: 0.4872, Accuracy: 83.59, Test loss: 0.4830, Test accuracy: 83.27\n",
            "Epoch 9, Loss: 0.4786, Accuracy: 83.85, Test loss: 0.4789, Test accuracy: 83.39\n",
            "Epoch 10, Loss: 0.4712, Accuracy: 84.07, Test loss: 0.4755, Test accuracy: 83.49\n"
          ],
          "name": "stdout"
        },
        {
          "output_type": "display_data",
          "data": {
            "image/png": "[encoded data removed]",
            "text/plain": [
              "<Figure size 576x396 with 1 Axes>"
            ]
          },
          "metadata": {
            "tags": []
          }
        },
        {
          "output_type": "display_data",
          "data": {
            "image/png": "[encoded data removed]",
            "text/plain": [
              "<Figure size 576x396 with 1 Axes>"
            ]
          },
          "metadata": {
            "tags": []
          }
        }
      ]
    },
    {
      "metadata": {
        "id": "RG0hwpd68e01",
        "colab_type": "code",
        "outputId": "7b5c4a63-8418-4f82-ba86-95bd3a60d15e",
        "colab": {
          "base_uri": "https://localhost:8080/",
          "height": 204
        }
      },
      "cell_type": "code",
      "source": [
        "print('Deep Model Execution.....')\n",
        "model_deep = DeepModel()\n",
        "acc, loss, val_acc, val_loss = train_model(model_deep)"
      ],
      "execution_count": 18,
      "outputs": [
        {
          "output_type": "stream",
          "text": [
            "Deep Model Execution.....\n",
            "Epoch 1, Loss: 0.3512, Accuracy: 87.47, Test loss: 0.3960, Test accuracy: 86.15\n",
            "Epoch 2, Loss: 0.3509, Accuracy: 87.46, Test loss: 0.3949, Test accuracy: 86.18\n",
            "Epoch 3, Loss: 0.3496, Accuracy: 87.50, Test loss: 0.3935, Test accuracy: 86.22\n",
            "Epoch 4, Loss: 0.3477, Accuracy: 87.55, Test loss: 0.3921, Test accuracy: 86.25\n",
            "Epoch 5, Loss: 0.3454, Accuracy: 87.63, Test loss: 0.3910, Test accuracy: 86.29\n",
            "Epoch 6, Loss: 0.3428, Accuracy: 87.71, Test loss: 0.3897, Test accuracy: 86.33\n",
            "Epoch 7, Loss: 0.3399, Accuracy: 87.80, Test loss: 0.3884, Test accuracy: 86.37\n",
            "Epoch 8, Loss: 0.3369, Accuracy: 87.90, Test loss: 0.3877, Test accuracy: 86.41\n",
            "Epoch 9, Loss: 0.3339, Accuracy: 88.00, Test loss: 0.3869, Test accuracy: 86.45\n",
            "Epoch 10, Loss: 0.3307, Accuracy: 88.10, Test loss: 0.3863, Test accuracy: 86.50\n"
          ],
          "name": "stdout"
        }
      ]
    },
    {
      "metadata": {
        "id": "K569tdr19yOG",
        "colab_type": "code",
        "colab": {}
      },
      "cell_type": "code",
      "source": [
        ""
      ],
      "execution_count": 0,
      "outputs": []
    }
  ]
}